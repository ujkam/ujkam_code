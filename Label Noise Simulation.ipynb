{
 "cells": [
  {
   "cell_type": "markdown",
   "id": "9c9af5e5-18c1-4805-8ab5-95f8101846e9",
   "metadata": {},
   "source": [
    "This notebook contains the code used to simulate the data I used in this article about how false positives and label noise can undermine your predictive maintenance projects.  What I’ve tried to do is simulate machine data and some “failure” after that data.  Rather than simulate sensors readings and then building features, I simulated the features directly.  The machine data is a “stability” measurement, which is just another way of saying that we have a single value to describe if the mean value of that day is low (the machine is very stable) or high (the machine is not stable).  This data is simulated for 21 days (one value per day), and given a label (0 = machine didn’t have an issue, 1 = machine had issue A, 2 = machine had issue B).  Each row of data (which would represent the data for a single machine) then has 21 features/columns and one label.\n",
    "\n",
    "Some things to know  \n",
    "- The machine has a “normal” operation, which has 2 means as the center for the stability measurement.  Why 2 and not just one mean?  Take for example a blender, which has multiple speeds, all of which are “normal.”  Many complex machines have more than one mode of normal operations.\n",
    "- Abnormal data starts with 0 to 20 days of normal data, and is labels either 1 or 2.  The reason for starting with normal data is that a machine maybe running normally for a few days, then abnormally for a few days, and then something breaks.  It’s also possible that it breaks with no warning (the data looks normal the whole time before a break), or all days are abnormal before a break.\n",
    "- To simulate label noise, the labels are flipped based on some percentage.  For example, if we want 10% of noise and we have 100 rows of simulated normal data, about 10 of those days will be flipped to having an event (a 1 or 2).  In the case of simulated abnormal data, the labels will be flipped to the other event (e.g. a 1 flips to a 2) or to no even (a 0).\n",
    "\n",
    "This data is goes through a normal train/test machine learning process and we look at the predictions on a test set.  "
   ]
  },
  {
   "cell_type": "code",
   "execution_count": 1,
   "id": "9a863651-6921-4435-b05e-aed21ee41719",
   "metadata": {},
   "outputs": [],
   "source": [
    "import numpy as np\n",
    "import pandas as pd\n",
    "from sklearn.ensemble import RandomForestClassifier, GradientBoostingClassifier\n",
    "from sklearn.metrics import confusion_matrix, ConfusionMatrixDisplay\n",
    "from sklearn.model_selection import train_test_split\n",
    "\n",
    "# from xgboost import XGBClassifier"
   ]
  },
  {
   "cell_type": "code",
   "execution_count": 2,
   "id": "559d6382-84fd-4a8a-b31a-a0b136d054e0",
   "metadata": {},
   "outputs": [],
   "source": [
    "def gen_normal_data(\n",
    "    num_days=21,\n",
    "    include_label=True,\n",
    "    permute_label=False,\n",
    "    labels=[0, 1],\n",
    "    permute_label_probs=[0.9, 0.1],\n",
    "):\n",
    "    \"\"\"Generates Normal Data\n",
    "\n",
    "    Args:\n",
    "        num_days (int): The number of values to generate\n",
    "        include_label (bool): If a label should be generated as the last value\n",
    "        permute_label (bool): If the label should be changed based on some probability\n",
    "        labels (list of ints): the labels to use for labeling\n",
    "        permute_label_probs (list of floats): the probability of each label\n",
    "\n",
    "    Returns:\n",
    "        list: a numpy array\n",
    "    \"\"\"\n",
    "\n",
    "    # Randomly select the operating mode mean, which simulates 2 \"normal\" operating modes\n",
    "    mean = np.random.choice([0.1, 0.3])\n",
    "    data = np.abs(np.random.normal(mean, 0.1, num_days))\n",
    "    if permute_label == True:\n",
    "        label = np.random.choice(labels, p=permute_label_probs)\n",
    "    else:\n",
    "        label = 0\n",
    "    if include_label == False:\n",
    "        output = data\n",
    "    else:\n",
    "        # Add a boolean value so we know if this value was permuted\n",
    "        permuted = int(label != 0)\n",
    "        output = np.concatenate((data, [label], [permuted]))\n",
    "    # print(label)\n",
    "    return output"
   ]
  },
  {
   "cell_type": "code",
   "execution_count": 3,
   "id": "5a89f07d-9931-49f8-adf6-60490de7ceb7",
   "metadata": {},
   "outputs": [],
   "source": [
    "def gen_abnormal_data(\n",
    "    mean=0.3,\n",
    "    stdev=0.2,\n",
    "    default_label=1,\n",
    "    labels=[0, 1],\n",
    "    permute_label=False,\n",
    "    permute_label_probs=[0.1, 0.9],\n",
    "    permute_normal_days=False,\n",
    "):\n",
    "    \"\"\"Generates Abnormal Data\n",
    "\n",
    "    Args:\n",
    "        mean (float): The mean of the values being generated\n",
    "        stdev (float): The standard deviation of the values being generated\n",
    "        default_label: The value of the majority class being generated\n",
    "        labels (list of ints): the labels to use for labeling\n",
    "        permute_label (bool): If the label should be changed based on some probability\n",
    "        permute_label_probs (list of floats): the probability of each label\n",
    "        permute_normal_days (bool): Should the number of normal days that start the data array be fixed or random\n",
    "\n",
    "    Returns:\n",
    "        list: a numpy array\n",
    "    \"\"\"\n",
    "\n",
    "    if permute_normal_days == False:\n",
    "        num_normal_days = 7\n",
    "    else:\n",
    "        num_normal_days = np.random.choice(np.arange(0, 20))\n",
    "    # Add 0 to 20 normal days of data before the abnormal data.\n",
    "    normal_data = gen_normal_data(\n",
    "        num_days=num_normal_days, include_label=False, permute_label=permute_normal_days\n",
    "    )\n",
    "    abnormal_data = np.abs(np.random.normal(mean, stdev, 21 - num_normal_days))\n",
    "    if permute_label == True:\n",
    "        label = np.random.choice(labels, p=permute_label_probs)\n",
    "    else:\n",
    "        label = default_label\n",
    "    # Add a boolean value so we know if this value was permuted\n",
    "    permuted = int(label != default_label)\n",
    "    # print(permuted)\n",
    "    return np.concatenate((normal_data, abnormal_data, [label], [permuted]))"
   ]
  },
  {
   "cell_type": "code",
   "execution_count": 4,
   "id": "988c0ee1-5c9b-45d8-b89e-100c7b988bef",
   "metadata": {},
   "outputs": [],
   "source": [
    "def gen_data(\n",
    "    means=[0.1, 0.4, 0.7],\n",
    "    stdevs=[0.1, 0.2, 0.3],\n",
    "    num_samples=300,\n",
    "    labels=[0, 1, 2],\n",
    "    major_label_prob=0.8,\n",
    "    permute_label=False,\n",
    "):\n",
    "    \"\"\"Generates a dataset\n",
    "\n",
    "    Args:\n",
    "        means (list): The means of the data for every label being generated\n",
    "        stdevs (list): The standard deviations of the data for every label being generated\n",
    "        num_samples: The number of rows of data for every label being generated\n",
    "        labels (list of ints): the labels to use for labeling\n",
    "        major_label_prob (float): The probability of the current label being generated\n",
    "        permute_label (bool): Should labels be randomly changed\n",
    "\n",
    "    Returns:\n",
    "        list: a pandas dataframe\n",
    "    \"\"\"\n",
    "\n",
    "    # Calculate the probailities of the other labels based on the number of labels\n",
    "    minor_label_prob = np.round((1 - major_label_prob) / (len(labels) - 1), 3)\n",
    "    # loop through the list of labels and generate the data for each one\n",
    "    # If labels are being permuted, permute them based on the major (the current label selected in the loop) label\n",
    "    # and the minor label (the other labels).\n",
    "    for i in labels:\n",
    "        if i == 0:\n",
    "            normdata_label_probs = [minor_label_prob] * len(labels)\n",
    "            normdata_label_probs[i] = major_label_prob\n",
    "            output_data = [\n",
    "                gen_normal_data(\n",
    "                    permute_label=permute_label,\n",
    "                    permute_label_probs=normdata_label_probs,\n",
    "                    labels=labels,\n",
    "                )\n",
    "                for _ in np.arange(num_samples)\n",
    "            ]\n",
    "            # output_data['Permuted'] = False\n",
    "        else:\n",
    "            permute_label_probs = [minor_label_prob] * len(labels)\n",
    "            permute_label_probs[i] = major_label_prob\n",
    "            # print(permute_label_probs)\n",
    "            abnormal_data = [\n",
    "                gen_abnormal_data(\n",
    "                    mean=means[i],\n",
    "                    stdev=stdevs[i],\n",
    "                    default_label=i,\n",
    "                    labels=labels,\n",
    "                    permute_label=permute_label,\n",
    "                    permute_label_probs=permute_label_probs,\n",
    "                    permute_normal_days=True,\n",
    "                )\n",
    "                for _ in np.arange(num_samples // 1)\n",
    "            ]\n",
    "            # abnormal_data['Permuted'] = abnormal_data['Label'] != i\n",
    "            # print(abnormal_data)\n",
    "            output_data = output_data + abnormal_data\n",
    "\n",
    "    output = pd.DataFrame(output_data)\n",
    "    output.columns = list(np.arange(21)) + [\"Label\"] + [\"Permuted\"]\n",
    "\n",
    "    return output"
   ]
  },
  {
   "cell_type": "code",
   "execution_count": 5,
   "id": "1fa5bc16-d21c-4516-bc00-89acb3773d92",
   "metadata": {},
   "outputs": [],
   "source": [
    "def train_model(\n",
    "    means=[0.1, 0.3, 0.6],\n",
    "    stdevs=[0.1, 0.25, 0.35],\n",
    "    labels=[0, 1, 2],\n",
    "    num_samples=500,\n",
    "    permute_label=True,\n",
    "    major_label_prob=0.8,\n",
    "):\n",
    "    \"\"\"Generate data, train a model, and evaluate the output on a test set\n",
    "\n",
    "    Args:\n",
    "        means (list): The means of the data for every label being generated\n",
    "        stdevs (list): The standard deviations of the data for every label being generated\n",
    "        labels (list of ints): the labels to use for labeling\n",
    "        num_samples: The number of rows of data for every label being generated\n",
    "        permute_label (bool): Should labels be randomly changed\n",
    "        major_label_prob (float): The probability of the current label being generated\n",
    "\n",
    "    Returns:\n",
    "        list: a dictionary with the predictions\n",
    "    \"\"\"\n",
    "    # Lists with all the results.\n",
    "    unnessary_work = []\n",
    "    incorrect_pred = []\n",
    "    incorrect_work = []\n",
    "    correct_alarms = []\n",
    "    actual_issues = []\n",
    "    predicted_alarms = []\n",
    "\n",
    "    # Run this multiple times to get something like a pseudo montecarlo simulation\n",
    "    for i in range(100):\n",
    "        data = gen_data(\n",
    "            means=means,\n",
    "            stdevs=stdevs,\n",
    "            num_samples=num_samples,\n",
    "            labels=labels,\n",
    "            major_label_prob=major_label_prob,\n",
    "            permute_label=permute_label,\n",
    "        )\n",
    "        # Remote the X and y data that was permuted\n",
    "        X = data[data[\"Permuted\"] != 1].iloc[:, 0:20]\n",
    "        y = data[data[\"Permuted\"] != 1].iloc[:, 21]\n",
    "        X_train, X_test, y_train, y_test = train_test_split(\n",
    "            X, y, test_size=0.3, random_state=42\n",
    "        )\n",
    "        # Add the permuted data back to the training sets.\n",
    "        # We don't include any permuted data to the test set because we want to evaluate how good the models is\n",
    "        # on actual results, not the permuted results.  This helps to not artificially increase or decrease\n",
    "        # the performance of the model on the test set.\n",
    "        X_train = pd.concat([X_train, data[data[\"Permuted\"] == 1].iloc[:, 0:20]])\n",
    "        y_train = pd.concat([y_train, data[data[\"Permuted\"] == 1].iloc[:, 21]])\n",
    "        # print(\"Split and Join\",data.shape, X_train.shape, y_train.shape)\n",
    "        clf = RandomForestClassifier(random_state=0)\n",
    "        clf.fit(X_train, y_train)\n",
    "        y_pred = clf.predict(X_test)\n",
    "        actual_issues.append(np.sum(y_test != 0))\n",
    "        predicted_alarms.append(np.sum(y_pred != 0))\n",
    "        unnessary_work.append(np.sum((y_test == 0) & (y_pred != 0)))\n",
    "        incorrect_pred.append(np.sum((y_test != y_pred)))\n",
    "        incorrect_work.append(\n",
    "            np.sum(((y_test != y_pred) & (y_test != 0) & (y_pred != 0)))\n",
    "        )\n",
    "        correct_alarms.append(np.sum((y_test != 0) & (y_test == y_pred)))\n",
    "\n",
    "    return {\n",
    "        \"actual_issues\": actual_issues,\n",
    "        \"predicted_alarms\": predicted_alarms,\n",
    "        \"incorrect_predictions\": incorrect_pred,\n",
    "        \"correct_alarms\": correct_alarms,\n",
    "        \"unnessary_work\": unnessary_work,\n",
    "        \"incorrect_work\": incorrect_work,\n",
    "        \"data\": data,\n",
    "        \"X_test\": X_test,\n",
    "        \"y_test\": y_test,\n",
    "    }"
   ]
  },
  {
   "cell_type": "code",
   "execution_count": 6,
   "id": "bf834524-b45b-4a24-a7d8-2b95aa696ced",
   "metadata": {},
   "outputs": [],
   "source": [
    "def print_results(model_output):\n",
    "    \"\"\"Generate metrics on the predictions and scale them to 100 Alarms to\n",
    "    make it easier to understand the results (e.g. 15 false alarms out of 100 is easier to understand\n",
    "    than 12 out of 80).  This function prints the results.\n",
    "\n",
    "    Args:\n",
    "        model_output: the dictionary from the train_model function.\n",
    "\n",
    "    Returns:\n",
    "        list: a dictionary with 2 of the metrics used in the article where the results are presented\n",
    "    \"\"\"\n",
    "    scaling_factor = 100 / np.mean(model_output[\"predicted_alarms\"])\n",
    "    incorrect_work = np.mean(model_output[\"incorrect_work\"])\n",
    "    unncessary_work = np.mean(model_output[\"unnessary_work\"])\n",
    "    incorrect_work_scaled = np.round(\n",
    "        np.mean(model_output[\"incorrect_work\"]) * scaling_factor, 2\n",
    "    )\n",
    "    unncessary_work_scaled = np.round(\n",
    "        np.mean(model_output[\"unnessary_work\"]) * scaling_factor, 2\n",
    "    )\n",
    "    correct_alarms_scaled = np.round(\n",
    "        np.mean(model_output[\"correct_alarms\"]) * scaling_factor, 2\n",
    "    )\n",
    "\n",
    "    print(\n",
    "        f\"\"\"\n",
    "    Actual Issues: {np.mean(model_output['actual_issues'])}, Alarms:{np.mean(model_output['predicted_alarms'])}, \n",
    "    Correct Alarms:{np.mean(model_output['correct_alarms'])}, Incorrect Predictions:{np.mean(model_output['incorrect_predictions'])}, \n",
    "    Incorrect Work:{np.mean(model_output['incorrect_work'])}, Unnessary Work:{np.mean(model_output['unnessary_work'])},\n",
    "    Incorrect Work Scaled:{incorrect_work_scaled}, Unnessary Work Scaled:{unncessary_work_scaled},\n",
    "    Correct Alarms Scaled:{correct_alarms_scaled}\n",
    "    \"\"\"\n",
    "    )\n",
    "    return {\"i_w_s\": incorrect_work_scaled, \"u_w_s\": unncessary_work_scaled}"
   ]
  },
  {
   "cell_type": "code",
   "execution_count": 7,
   "id": "51d0139e-4741-49a3-a45d-ba6563ea5b65",
   "metadata": {},
   "outputs": [],
   "source": [
    "def cost_calc(\n",
    "    alarms=100,\n",
    "    proactive_value=250,\n",
    "    unnecessary_work=0,\n",
    "    unnecessary_work_value=-500,\n",
    "    incorrect_work=0,\n",
    "    incorrect_work_value=-1000,\n",
    "):\n",
    "    \"\"\"Calculate the cost savings or expenditures based on the true or false positives\n",
    "\n",
    "    Args:\n",
    "\n",
    "    Returns:\n",
    "        nothing.  Just prints the results.\n",
    "    \"\"\"\n",
    "    potential_savings = alarms * proactive_value\n",
    "    unnecessary_costs = unnecessary_work * unnecessary_work_value\n",
    "    incorrect_work_costs = incorrect_work * incorrect_work_value\n",
    "    actual_savings = potential_savings + unnecessary_costs + incorrect_work_costs\n",
    "    print(\n",
    "        f\"\"\"\n",
    "    Theoretical Savings: {potential_savings}, Actual Savings: {actual_savings},\n",
    "    Costs Due to Unnecessary Work:{unnecessary_costs}, Costs Due to Incorrect Work:{incorrect_work_costs}\"\"\"\n",
    "    )"
   ]
  },
  {
   "cell_type": "markdown",
   "id": "65602a92-4b57-473b-988e-99a5ef97f2f7",
   "metadata": {},
   "source": [
    "# Generate Data, Train Models, and Print Results"
   ]
  },
  {
   "cell_type": "markdown",
   "id": "fe6b4a83-b868-49df-9529-0064ebcdf3a4",
   "metadata": {},
   "source": [
    "# Binary Classification"
   ]
  },
  {
   "cell_type": "markdown",
   "id": "26ff8d02-73df-4b4d-83e0-e434435b2dba",
   "metadata": {},
   "source": [
    "## Non Permuted Labels"
   ]
  },
  {
   "cell_type": "code",
   "execution_count": 8,
   "id": "3400cc52-4b6a-4826-bf72-1f03554f3d8e",
   "metadata": {},
   "outputs": [
    {
     "name": "stdout",
     "output_type": "stream",
     "text": [
      "\n",
      "    Actual Issues: 298.0, Alarms:297.3, \n",
      "    Correct Alarms:296.17, Incorrect Predictions:2.96, \n",
      "    Incorrect Work:0.0, Unnessary Work:1.13,\n",
      "    Incorrect Work Scaled:0.0, Unnessary Work Scaled:0.38,\n",
      "    Correct Alarms Scaled:99.62\n",
      "    \n"
     ]
    }
   ],
   "source": [
    "model_output = train_model(\n",
    "    means=[0.1, 0.8],\n",
    "    stdevs=[0.1, 0.2],\n",
    "    num_samples=1000,\n",
    "    labels=[0, 1],\n",
    "    permute_label=False,\n",
    ")\n",
    "metrics = print_results(model_output)"
   ]
  },
  {
   "cell_type": "code",
   "execution_count": 9,
   "id": "20cfb8e5-6dcb-43b1-b9ec-75b6c0a0e98f",
   "metadata": {},
   "outputs": [
    {
     "name": "stdout",
     "output_type": "stream",
     "text": [
      "\n",
      "    Theoretical Savings: 25000, Actual Savings: 24810.0,\n",
      "    Costs Due to Unnecessary Work:-190.0, Costs Due to Incorrect Work:-0.0\n"
     ]
    }
   ],
   "source": [
    "cost_calc(incorrect_work=metrics[\"i_w_s\"], unnecessary_work=metrics[\"u_w_s\"])"
   ]
  },
  {
   "cell_type": "markdown",
   "id": "6aafa3bf-e81d-4441-9294-0e06fc92ffd4",
   "metadata": {},
   "source": [
    "## Permuted Labels, 5% Label Noise"
   ]
  },
  {
   "cell_type": "code",
   "execution_count": 10,
   "id": "5c11f69d-f5a5-41ed-a9e1-d6b9876b0cd1",
   "metadata": {},
   "outputs": [
    {
     "name": "stdout",
     "output_type": "stream",
     "text": [
      "\n",
      "    Actual Issues: 286.87, Alarms:290.03, \n",
      "    Correct Alarms:263.42, Incorrect Predictions:50.06, \n",
      "    Incorrect Work:0.0, Unnessary Work:26.61,\n",
      "    Incorrect Work Scaled:0.0, Unnessary Work Scaled:9.17,\n",
      "    Correct Alarms Scaled:90.83\n",
      "    \n"
     ]
    }
   ],
   "source": [
    "model_output = train_model(\n",
    "    means=[0.1, 0.4],\n",
    "    stdevs=[0.1, 0.2],\n",
    "    num_samples=1000,\n",
    "    labels=[0, 1],\n",
    "    permute_label=True,\n",
    "    major_label_prob=0.95,\n",
    ")\n",
    "metrics = print_results(model_output)"
   ]
  },
  {
   "cell_type": "code",
   "execution_count": 11,
   "id": "f0b305dc-b5de-4d96-b7c4-17c1d0c12e27",
   "metadata": {},
   "outputs": [
    {
     "name": "stdout",
     "output_type": "stream",
     "text": [
      "\n",
      "    Theoretical Savings: 25000, Actual Savings: 20415.0,\n",
      "    Costs Due to Unnecessary Work:-4585.0, Costs Due to Incorrect Work:-0.0\n"
     ]
    }
   ],
   "source": [
    "cost_calc(incorrect_work=metrics[\"i_w_s\"], unnecessary_work=metrics[\"u_w_s\"])"
   ]
  },
  {
   "cell_type": "markdown",
   "id": "b61cf849-d198-438d-8c16-c3b57b8218bb",
   "metadata": {},
   "source": [
    "## Permuted Labels, 10% Label Noise"
   ]
  },
  {
   "cell_type": "code",
   "execution_count": 12,
   "id": "8f519bee-be48-4d63-8e15-91057db46c23",
   "metadata": {},
   "outputs": [
    {
     "name": "stdout",
     "output_type": "stream",
     "text": [
      "\n",
      "    Actual Issues: 274.72, Alarms:274.59, \n",
      "    Correct Alarms:250.24, Incorrect Predictions:48.83, \n",
      "    Incorrect Work:0.0, Unnessary Work:24.35,\n",
      "    Incorrect Work Scaled:0.0, Unnessary Work Scaled:8.87,\n",
      "    Correct Alarms Scaled:91.13\n",
      "    \n"
     ]
    }
   ],
   "source": [
    "model_output = train_model(\n",
    "    means=[0.1, 0.4],\n",
    "    stdevs=[0.1, 0.2],\n",
    "    num_samples=1000,\n",
    "    labels=[0, 1],\n",
    "    permute_label=True,\n",
    "    major_label_prob=0.9,\n",
    ")\n",
    "metrics = print_results(model_output)"
   ]
  },
  {
   "cell_type": "code",
   "execution_count": 13,
   "id": "1e45df85-58c5-4172-aa6d-a6043d977741",
   "metadata": {},
   "outputs": [
    {
     "name": "stdout",
     "output_type": "stream",
     "text": [
      "\n",
      "    Theoretical Savings: 25000, Actual Savings: 20565.0,\n",
      "    Costs Due to Unnecessary Work:-4435.0, Costs Due to Incorrect Work:-0.0\n"
     ]
    }
   ],
   "source": [
    "cost_calc(incorrect_work=metrics[\"i_w_s\"], unnecessary_work=metrics[\"u_w_s\"])"
   ]
  },
  {
   "cell_type": "markdown",
   "id": "95070f4f-9d0f-423b-887b-b416b5cc7d76",
   "metadata": {},
   "source": [
    "## Permuted Labels, 20% Label Noise"
   ]
  },
  {
   "cell_type": "code",
   "execution_count": 14,
   "id": "3d5867ea-07b0-491e-b194-a605e47400b8",
   "metadata": {},
   "outputs": [
    {
     "name": "stdout",
     "output_type": "stream",
     "text": [
      "\n",
      "    Actual Issues: 233.71, Alarms:235.48, \n",
      "    Correct Alarms:206.59, Incorrect Predictions:56.01, \n",
      "    Incorrect Work:0.0, Unnessary Work:28.89,\n",
      "    Incorrect Work Scaled:0.0, Unnessary Work Scaled:12.27,\n",
      "    Correct Alarms Scaled:87.73\n",
      "    \n"
     ]
    }
   ],
   "source": [
    "model_output = train_model(\n",
    "    means=[0.1, 0.4],\n",
    "    stdevs=[0.1, 0.2],\n",
    "    num_samples=1000,\n",
    "    labels=[0, 1],\n",
    "    permute_label=True,\n",
    "    major_label_prob=0.8,\n",
    ")\n",
    "metrics = print_results(model_output)"
   ]
  },
  {
   "cell_type": "code",
   "execution_count": 15,
   "id": "f03f263d-1ff5-41e1-9a7e-d1bc4f56afea",
   "metadata": {},
   "outputs": [
    {
     "name": "stdout",
     "output_type": "stream",
     "text": [
      "\n",
      "    Theoretical Savings: 25000, Actual Savings: 18865.0,\n",
      "    Costs Due to Unnecessary Work:-6135.0, Costs Due to Incorrect Work:-0.0\n"
     ]
    }
   ],
   "source": [
    "cost_calc(incorrect_work=metrics[\"i_w_s\"], unnecessary_work=metrics[\"u_w_s\"])"
   ]
  },
  {
   "cell_type": "markdown",
   "id": "6a4c9140-a14a-4c8b-b3e0-6c5d2c66bb89",
   "metadata": {},
   "source": [
    "## Permuted Labels, 30% Label Noise"
   ]
  },
  {
   "cell_type": "code",
   "execution_count": 16,
   "id": "caa0e89f-98da-40ba-b77b-ab87e2385b5e",
   "metadata": {},
   "outputs": [
    {
     "name": "stdout",
     "output_type": "stream",
     "text": [
      "\n",
      "    Actual Issues: 233.59, Alarms:235.38, \n",
      "    Correct Alarms:206.83, Incorrect Predictions:55.31, \n",
      "    Incorrect Work:0.0, Unnessary Work:28.55,\n",
      "    Incorrect Work Scaled:0.0, Unnessary Work Scaled:12.13,\n",
      "    Correct Alarms Scaled:87.87\n",
      "    \n"
     ]
    }
   ],
   "source": [
    "model_output = train_model(\n",
    "    means=[0.1, 0.4],\n",
    "    stdevs=[0.1, 0.2],\n",
    "    num_samples=1000,\n",
    "    labels=[0, 1],\n",
    "    permute_label=True,\n",
    "    major_label_prob=0.8,\n",
    ")\n",
    "metrics = print_results(model_output)"
   ]
  },
  {
   "cell_type": "code",
   "execution_count": 17,
   "id": "0188bbe0-805f-4929-a099-1d2379573712",
   "metadata": {},
   "outputs": [
    {
     "name": "stdout",
     "output_type": "stream",
     "text": [
      "\n",
      "    Theoretical Savings: 25000, Actual Savings: 18935.0,\n",
      "    Costs Due to Unnecessary Work:-6065.0, Costs Due to Incorrect Work:-0.0\n"
     ]
    }
   ],
   "source": [
    "cost_calc(incorrect_work=metrics[\"i_w_s\"], unnecessary_work=metrics[\"u_w_s\"])"
   ]
  },
  {
   "cell_type": "markdown",
   "id": "95139a25-9f37-46d0-a1f6-6c85dd572c8a",
   "metadata": {},
   "source": [
    "# 3 Label Classification"
   ]
  },
  {
   "cell_type": "markdown",
   "id": "0b69c5fb-9ee0-49ed-be1c-ef311a96866b",
   "metadata": {},
   "source": [
    "## Non Permuted Labels"
   ]
  },
  {
   "cell_type": "code",
   "execution_count": 18,
   "id": "a136e692-c6e1-4590-8cc8-5d71fd8ae7ad",
   "metadata": {},
   "outputs": [
    {
     "name": "stdout",
     "output_type": "stream",
     "text": [
      "\n",
      "    Actual Issues: 587.0, Alarms:588.92, \n",
      "    Correct Alarms:516.54, Incorrect Predictions:98.27, \n",
      "    Incorrect Work:44.57, Unnessary Work:27.81,\n",
      "    Incorrect Work Scaled:7.57, Unnessary Work Scaled:4.72,\n",
      "    Correct Alarms Scaled:87.71\n",
      "    \n"
     ]
    }
   ],
   "source": [
    "model_output = train_model(\n",
    "    means=[0.1, 0.4, 0.7],\n",
    "    stdevs=[0.1, 0.2, 0.3],\n",
    "    num_samples=1000,\n",
    "    labels=[0, 1, 2],\n",
    "    permute_label=False,\n",
    ")\n",
    "metrics = print_results(model_output)"
   ]
  },
  {
   "cell_type": "code",
   "execution_count": 19,
   "id": "9581c5f7-b8a4-4262-93bb-34f4e72f5c7c",
   "metadata": {},
   "outputs": [
    {
     "name": "stdout",
     "output_type": "stream",
     "text": [
      "\n",
      "    Theoretical Savings: 25000, Actual Savings: 15070.0,\n",
      "    Costs Due to Unnecessary Work:-2360.0, Costs Due to Incorrect Work:-7570.0\n"
     ]
    }
   ],
   "source": [
    "cost_calc(incorrect_work=metrics[\"i_w_s\"], unnecessary_work=metrics[\"u_w_s\"])"
   ]
  },
  {
   "cell_type": "code",
   "execution_count": 20,
   "id": "86f4361a-8147-4900-bd78-c29d3dd9821d",
   "metadata": {},
   "outputs": [
    {
     "data": {
      "text/html": [
       "<div>\n",
       "<style scoped>\n",
       "    .dataframe tbody tr th:only-of-type {\n",
       "        vertical-align: middle;\n",
       "    }\n",
       "\n",
       "    .dataframe tbody tr th {\n",
       "        vertical-align: top;\n",
       "    }\n",
       "\n",
       "    .dataframe thead th {\n",
       "        text-align: right;\n",
       "    }\n",
       "</style>\n",
       "<table border=\"1\" class=\"dataframe\">\n",
       "  <thead>\n",
       "    <tr style=\"text-align: right;\">\n",
       "      <th>Permuted</th>\n",
       "      <th>0.0</th>\n",
       "    </tr>\n",
       "    <tr>\n",
       "      <th>Label</th>\n",
       "      <th></th>\n",
       "    </tr>\n",
       "  </thead>\n",
       "  <tbody>\n",
       "    <tr>\n",
       "      <th>0.0</th>\n",
       "      <td>1000</td>\n",
       "    </tr>\n",
       "    <tr>\n",
       "      <th>1.0</th>\n",
       "      <td>1000</td>\n",
       "    </tr>\n",
       "    <tr>\n",
       "      <th>2.0</th>\n",
       "      <td>1000</td>\n",
       "    </tr>\n",
       "  </tbody>\n",
       "</table>\n",
       "</div>"
      ],
      "text/plain": [
       "Permuted   0.0\n",
       "Label         \n",
       "0.0       1000\n",
       "1.0       1000\n",
       "2.0       1000"
      ]
     },
     "execution_count": 20,
     "metadata": {},
     "output_type": "execute_result"
    }
   ],
   "source": [
    "mydatatest = model_output[\"data\"].copy()\n",
    "mydatatest[\"Permuted_Copy\"] = mydatatest[\"Permuted\"]\n",
    "pd.pivot_table(\n",
    "    mydatatest,\n",
    "    index=\"Label\",\n",
    "    columns=\"Permuted\",\n",
    "    values=\"Permuted_Copy\",\n",
    "    aggfunc=\"count\",\n",
    ")"
   ]
  },
  {
   "cell_type": "markdown",
   "id": "98e0a854-3bce-4312-9052-4b2ba7b65f34",
   "metadata": {},
   "source": [
    "## Permuted Labels"
   ]
  },
  {
   "cell_type": "markdown",
   "id": "3db2e7ed-3a0a-40ab-89d7-322bc8f6e660",
   "metadata": {},
   "source": [
    "## Permuted Labels, 5% Label Noise"
   ]
  },
  {
   "cell_type": "code",
   "execution_count": 21,
   "id": "d38d809d-3f3c-48d2-9963-8a1e55a04ea2",
   "metadata": {},
   "outputs": [
    {
     "name": "stdout",
     "output_type": "stream",
     "text": [
      "\n",
      "    Actual Issues: 565.39, Alarms:564.59, \n",
      "    Correct Alarms:494.48, Incorrect Predictions:97.42, \n",
      "    Incorrect Work:43.6, Unnessary Work:26.51,\n",
      "    Incorrect Work Scaled:7.72, Unnessary Work Scaled:4.7,\n",
      "    Correct Alarms Scaled:87.58\n",
      "    \n"
     ]
    }
   ],
   "source": [
    "model_output = train_model(\n",
    "    means=[0.1, 0.4, 0.7],\n",
    "    stdevs=[0.1, 0.2, 0.3],\n",
    "    num_samples=1000,\n",
    "    labels=[0, 1, 2],\n",
    "    permute_label=True,\n",
    "    major_label_prob=0.95,\n",
    ")\n",
    "metrics = print_results(model_output)"
   ]
  },
  {
   "cell_type": "code",
   "execution_count": 22,
   "id": "9b0a6f29-3f83-4d6a-a9d5-e5777da70fad",
   "metadata": {},
   "outputs": [
    {
     "name": "stdout",
     "output_type": "stream",
     "text": [
      "\n",
      "    Theoretical Savings: 25000, Actual Savings: 14930.0,\n",
      "    Costs Due to Unnecessary Work:-2350.0, Costs Due to Incorrect Work:-7720.0\n"
     ]
    }
   ],
   "source": [
    "cost_calc(incorrect_work=metrics[\"i_w_s\"], unnecessary_work=metrics[\"u_w_s\"])"
   ]
  },
  {
   "cell_type": "markdown",
   "id": "dfcce05e-cd6a-4920-a7d4-a753ba91d98d",
   "metadata": {},
   "source": [
    "## Permuted Labels, 10% Label Noise"
   ]
  },
  {
   "cell_type": "code",
   "execution_count": 23,
   "id": "383184e8-56cf-495f-9f88-a62feb3be7e2",
   "metadata": {},
   "outputs": [
    {
     "name": "stdout",
     "output_type": "stream",
     "text": [
      "\n",
      "    Actual Issues: 536.98, Alarms:533.57, \n",
      "    Correct Alarms:435.15, Incorrect Predictions:126.64, \n",
      "    Incorrect Work:73.61, Unnessary Work:24.81,\n",
      "    Incorrect Work Scaled:13.8, Unnessary Work Scaled:4.65,\n",
      "    Correct Alarms Scaled:81.55\n",
      "    \n"
     ]
    }
   ],
   "source": [
    "model_output = train_model(\n",
    "    means=[0.1, 0.4, 0.6],\n",
    "    stdevs=[0.1, 0.2, 0.3],\n",
    "    num_samples=1000,\n",
    "    labels=[0, 1, 2],\n",
    "    permute_label=True,\n",
    "    major_label_prob=0.9,\n",
    ")\n",
    "metrics = print_results(model_output)"
   ]
  },
  {
   "cell_type": "code",
   "execution_count": 24,
   "id": "7f735f57-aaab-44e1-9e64-a5c6180d4d47",
   "metadata": {},
   "outputs": [],
   "source": [
    "# mydatatest = model_output['data'].copy()\n",
    "# mydatatest['Permuted_Copy'] = mydatatest['Permuted']\n",
    "# pd.pivot_table(mydatatest.iloc[1500:,:], index='Label',columns='Permuted', values='Permuted_Copy', aggfunc='count')"
   ]
  },
  {
   "cell_type": "code",
   "execution_count": 25,
   "id": "b7af338f-5671-45e6-a143-57284d80bf2e",
   "metadata": {},
   "outputs": [
    {
     "name": "stdout",
     "output_type": "stream",
     "text": [
      "\n",
      "    Theoretical Savings: 25000, Actual Savings: 8875.0,\n",
      "    Costs Due to Unnecessary Work:-2325.0, Costs Due to Incorrect Work:-13800.0\n"
     ]
    }
   ],
   "source": [
    "cost_calc(incorrect_work=metrics[\"i_w_s\"], unnecessary_work=metrics[\"u_w_s\"])"
   ]
  },
  {
   "cell_type": "markdown",
   "id": "7b62ca24-720f-48ff-ac7d-840f366d16af",
   "metadata": {},
   "source": [
    "## Permuted Labels, 20% Label Noise"
   ]
  },
  {
   "cell_type": "code",
   "execution_count": 26,
   "id": "faafea84-9340-4716-89e0-8fe76632db71",
   "metadata": {},
   "outputs": [
    {
     "name": "stdout",
     "output_type": "stream",
     "text": [
      "\n",
      "    Actual Issues: 468.03, Alarms:466.28, \n",
      "    Correct Alarms:371.76, Incorrect Predictions:121.51, \n",
      "    Incorrect Work:69.28, Unnessary Work:25.24,\n",
      "    Incorrect Work Scaled:14.86, Unnessary Work Scaled:5.41,\n",
      "    Correct Alarms Scaled:79.73\n",
      "    \n"
     ]
    },
    {
     "data": {
      "text/plain": [
       "{'i_w_s': 14.86, 'u_w_s': 5.41}"
      ]
     },
     "execution_count": 26,
     "metadata": {},
     "output_type": "execute_result"
    }
   ],
   "source": [
    "model_output = train_model(\n",
    "    means=[0.1, 0.4, 0.6],\n",
    "    stdevs=[0.1, 0.2, 0.3],\n",
    "    num_samples=1000,\n",
    "    labels=[0, 1, 2],\n",
    "    permute_label=True,\n",
    "    major_label_prob=0.8,\n",
    ")\n",
    "print_results(model_output)"
   ]
  },
  {
   "cell_type": "code",
   "execution_count": 27,
   "id": "e968b7f6-137b-45dd-966e-e68efe2c5b6c",
   "metadata": {},
   "outputs": [
    {
     "name": "stdout",
     "output_type": "stream",
     "text": [
      "\n",
      "    Theoretical Savings: 25000, Actual Savings: 8875.0,\n",
      "    Costs Due to Unnecessary Work:-2325.0, Costs Due to Incorrect Work:-13800.0\n"
     ]
    }
   ],
   "source": [
    "cost_calc(incorrect_work=metrics[\"i_w_s\"], unnecessary_work=metrics[\"u_w_s\"])"
   ]
  },
  {
   "cell_type": "code",
   "execution_count": 28,
   "id": "bd0113f0-7e67-4501-b045-3de1c3c0224e",
   "metadata": {},
   "outputs": [],
   "source": [
    "## Permuted Labels, 30% Label Noise"
   ]
  },
  {
   "cell_type": "code",
   "execution_count": 29,
   "id": "16b26db3-dd76-49cc-b0aa-4e2670a0f18f",
   "metadata": {},
   "outputs": [
    {
     "name": "stdout",
     "output_type": "stream",
     "text": [
      "\n",
      "    Actual Issues: 406.11, Alarms:408.25, \n",
      "    Correct Alarms:307.42, Incorrect Predictions:128.45, \n",
      "    Incorrect Work:71.07, Unnessary Work:29.76,\n",
      "    Incorrect Work Scaled:17.41, Unnessary Work Scaled:7.29,\n",
      "    Correct Alarms Scaled:75.3\n",
      "    \n"
     ]
    },
    {
     "data": {
      "text/plain": [
       "{'i_w_s': 17.41, 'u_w_s': 7.29}"
      ]
     },
     "execution_count": 29,
     "metadata": {},
     "output_type": "execute_result"
    }
   ],
   "source": [
    "model_output = train_model(\n",
    "    means=[0.1, 0.4, 0.6],\n",
    "    stdevs=[0.1, 0.2, 0.3],\n",
    "    num_samples=1000,\n",
    "    labels=[0, 1, 2],\n",
    "    permute_label=True,\n",
    "    major_label_prob=0.7,\n",
    ")\n",
    "print_results(model_output)"
   ]
  },
  {
   "cell_type": "markdown",
   "id": "c5898379-46c8-4e56-80ca-3b136b6e583a",
   "metadata": {},
   "source": [
    "# Scratch Work Area"
   ]
  },
  {
   "cell_type": "code",
   "execution_count": 30,
   "id": "cc059ae9-b041-4013-9cda-195918242b95",
   "metadata": {},
   "outputs": [
    {
     "name": "stdout",
     "output_type": "stream",
     "text": [
      "\n",
      "    Theoretical Savings: 25000, Actual Savings: 8875.0,\n",
      "    Costs Due to Unnecessary Work:-2325.0, Costs Due to Incorrect Work:-13800.0\n"
     ]
    }
   ],
   "source": [
    "cost_calc(incorrect_work=metrics[\"i_w_s\"], unnecessary_work=metrics[\"u_w_s\"])"
   ]
  },
  {
   "cell_type": "code",
   "execution_count": 35,
   "id": "614e1a1f-5258-4511-94d0-1dc73200546f",
   "metadata": {},
   "outputs": [
    {
     "name": "stdout",
     "output_type": "stream",
     "text": [
      "\n",
      "    Theoretical Savings: 25000, Actual Savings: 7000,\n",
      "    Costs Due to Unnecessary Work:-3000, Costs Due to Incorrect Work:-15000\n"
     ]
    }
   ],
   "source": [
    "cost_calc(\n",
    "    incorrect_work=15,\n",
    "    incorrect_work_value=-1000,\n",
    "    unnecessary_work=6,\n",
    "    unnecessary_work_value=-500,\n",
    ")"
   ]
  },
  {
   "cell_type": "code",
   "execution_count": null,
   "id": "55aeb9c7-2128-4554-9e5c-a4623da6c133",
   "metadata": {},
   "outputs": [],
   "source": []
  }
 ],
 "metadata": {
  "kernelspec": {
   "display_name": "Python 3 (ipykernel)",
   "language": "python",
   "name": "python3"
  },
  "language_info": {
   "codemirror_mode": {
    "name": "ipython",
    "version": 3
   },
   "file_extension": ".py",
   "mimetype": "text/x-python",
   "name": "python",
   "nbconvert_exporter": "python",
   "pygments_lexer": "ipython3",
   "version": "3.12.2"
  }
 },
 "nbformat": 4,
 "nbformat_minor": 5
}
